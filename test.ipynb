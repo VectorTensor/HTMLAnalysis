{
 "cells": [
  {
   "cell_type": "code",
   "metadata": {
    "ExecuteTime": {
     "end_time": "2024-05-25T01:56:31.287529Z",
     "start_time": "2024-05-25T01:56:26.387551Z"
    }
   },
   "source": [
    "from transformers import AutoTokenizer"
   ],
   "outputs": [],
   "execution_count": 1
  },
  {
   "cell_type": "code",
   "metadata": {
    "ExecuteTime": {
     "end_time": "2024-05-25T01:56:32.357936Z",
     "start_time": "2024-05-25T01:56:31.290559Z"
    }
   },
   "source": [
    "tokenizer = AutoTokenizer.from_pretrained(\"distilbert-base-uncased\")"
   ],
   "outputs": [],
   "execution_count": 2
  },
  {
   "cell_type": "code",
   "metadata": {
    "ExecuteTime": {
     "end_time": "2024-05-25T01:56:32.388788Z",
     "start_time": "2024-05-25T01:56:32.361937Z"
    }
   },
   "source": [
    "tokenizer.vocab_size"
   ],
   "outputs": [
    {
     "data": {
      "text/plain": [
       "30522"
      ]
     },
     "execution_count": 3,
     "metadata": {},
     "output_type": "execute_result"
    }
   ],
   "execution_count": 3
  },
  {
   "cell_type": "code",
   "metadata": {
    "ExecuteTime": {
     "end_time": "2024-05-25T01:56:32.403895Z",
     "start_time": "2024-05-25T01:56:32.392069Z"
    }
   },
   "source": [
    "tokenizer.special_tokens_map"
   ],
   "outputs": [
    {
     "data": {
      "text/plain": [
       "{'unk_token': '[UNK]',\n",
       " 'sep_token': '[SEP]',\n",
       " 'pad_token': '[PAD]',\n",
       " 'cls_token': '[CLS]',\n",
       " 'mask_token': '[MASK]'}"
      ]
     },
     "execution_count": 4,
     "metadata": {},
     "output_type": "execute_result"
    }
   ],
   "execution_count": 4
  },
  {
   "cell_type": "code",
   "metadata": {
    "ExecuteTime": {
     "end_time": "2024-05-25T01:56:32.419188Z",
     "start_time": "2024-05-25T01:56:32.407999Z"
    }
   },
   "source": [
    "tokenizer.model_max_length"
   ],
   "outputs": [
    {
     "data": {
      "text/plain": [
       "512"
      ]
     },
     "execution_count": 5,
     "metadata": {},
     "output_type": "execute_result"
    }
   ],
   "execution_count": 5
  },
  {
   "cell_type": "code",
   "metadata": {
    "ExecuteTime": {
     "end_time": "2024-05-25T01:56:32.449749Z",
     "start_time": "2024-05-25T01:56:32.421602Z"
    }
   },
   "source": [
    "encoded_str = tokenizer.encode(\"this is a complicatedtest\")"
   ],
   "outputs": [],
   "execution_count": 6
  },
  {
   "cell_type": "code",
   "metadata": {
    "ExecuteTime": {
     "end_time": "2024-05-25T01:56:32.465067Z",
     "start_time": "2024-05-25T01:56:32.451843Z"
    }
   },
   "source": [
    "encoded_str"
   ],
   "outputs": [
    {
     "data": {
      "text/plain": [
       "[101, 2023, 2003, 1037, 8552, 22199, 102]"
      ]
     },
     "execution_count": 7,
     "metadata": {},
     "output_type": "execute_result"
    }
   ],
   "execution_count": 7
  },
  {
   "cell_type": "code",
   "metadata": {
    "ExecuteTime": {
     "end_time": "2024-05-25T01:56:32.480212Z",
     "start_time": "2024-05-25T01:56:32.467705Z"
    }
   },
   "source": [
    "for token in encoded_str:\n",
    "    print(token, tokenizer.decode([token]))"
   ],
   "outputs": [
    {
     "name": "stdout",
     "output_type": "stream",
     "text": [
      "101 [CLS]\n",
      "2023 this\n",
      "2003 is\n",
      "1037 a\n",
      "8552 complicated\n",
      "22199 ##test\n",
      "102 [SEP]\n"
     ]
    }
   ],
   "execution_count": 8
  },
  {
   "cell_type": "code",
   "metadata": {
    "ExecuteTime": {
     "end_time": "2024-05-25T01:56:32.510772Z",
     "start_time": "2024-05-25T01:56:32.482210Z"
    }
   },
   "source": [
    "from transformers import AutoModel\n",
    "import torch"
   ],
   "outputs": [],
   "execution_count": 9
  },
  {
   "cell_type": "code",
   "metadata": {
    "ExecuteTime": {
     "end_time": "2024-05-25T01:56:32.526785Z",
     "start_time": "2024-05-25T01:56:32.512772Z"
    }
   },
   "source": [
    "device = torch.device(\"cuda\" if torch.cuda.is_available() else 'cpu')\n"
   ],
   "outputs": [],
   "execution_count": 10
  },
  {
   "cell_type": "code",
   "metadata": {
    "ExecuteTime": {
     "end_time": "2024-05-25T01:56:35.954671Z",
     "start_time": "2024-05-25T01:56:32.529785Z"
    }
   },
   "source": [
    "model = AutoModel.from_pretrained(\"distilbert-base-uncased\").to(device)"
   ],
   "outputs": [],
   "execution_count": 11
  },
  {
   "cell_type": "code",
   "metadata": {
    "ExecuteTime": {
     "end_time": "2024-05-25T01:57:11.835080Z",
     "start_time": "2024-05-25T01:57:11.824553Z"
    }
   },
   "source": [
    "text = \"this is a test\"\n",
    "text_tensor = tokenizer(text, return_tensors=\"pt\").to(device)"
   ],
   "outputs": [],
   "execution_count": 14
  },
  {
   "metadata": {
    "ExecuteTime": {
     "end_time": "2024-05-25T02:49:07.533622Z",
     "start_time": "2024-05-25T02:49:07.446141Z"
    }
   },
   "cell_type": "code",
   "source": "import numpy as np",
   "outputs": [],
   "execution_count": 17
  },
  {
   "metadata": {
    "ExecuteTime": {
     "end_time": "2024-05-25T02:55:45.885596Z",
     "start_time": "2024-05-25T02:55:45.868080Z"
    }
   },
   "cell_type": "code",
   "source": [
    "def aggregate_embeddings(chunk_embeddings, method='mean'):\n",
    "    if method == 'mean':\n",
    "        document_embedding = torch.mean(chunk_embeddings, axis=1)\n",
    "    elif method == 'sum':\n",
    "        document_embedding = torch.sum(chunk_embeddings, axis=1)\n",
    "    else:\n",
    "        raise ValueError(\"Unsupported aggregation method\")\n",
    "    return document_embedding"
   ],
   "outputs": [],
   "execution_count": 37
  },
  {
   "cell_type": "code",
   "metadata": {
    "ExecuteTime": {
     "end_time": "2024-05-25T03:03:19.590894Z",
     "start_time": "2024-05-25T03:03:19.542671Z"
    }
   },
   "source": [
    "output = model(**text_tensor)\n",
    "output = output.last_hidden_state\n",
    "aggregate_embeddings(output).shape"
   ],
   "outputs": [
    {
     "data": {
      "text/plain": [
       "torch.Size([1, 768])"
      ]
     },
     "execution_count": 40,
     "metadata": {},
     "output_type": "execute_result"
    }
   ],
   "execution_count": 40
  },
  {
   "cell_type": "code",
   "metadata": {
    "ExecuteTime": {
     "end_time": "2024-05-25T01:56:37.458541Z",
     "start_time": "2024-05-25T01:56:37.447468Z"
    }
   },
   "source": [],
   "outputs": [],
   "execution_count": 13
  }
 ],
 "metadata": {
  "kernelspec": {
   "display_name": "sentEnv",
   "language": "python",
   "name": "python3"
  },
  "language_info": {
   "codemirror_mode": {
    "name": "ipython",
    "version": 3
   },
   "file_extension": ".py",
   "mimetype": "text/x-python",
   "name": "python",
   "nbconvert_exporter": "python",
   "pygments_lexer": "ipython3",
   "version": "3.11.4"
  }
 },
 "nbformat": 4,
 "nbformat_minor": 2
}
