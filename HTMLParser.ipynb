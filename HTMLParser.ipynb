{
 "cells": [
  {
   "cell_type": "code",
   "metadata": {
    "ExecuteTime": {
     "end_time": "2024-05-26T15:48:29.579443Z",
     "start_time": "2024-05-26T15:48:29.566758Z"
    }
   },
   "source": [
    "import math\n",
    "\n",
    "import requests\n",
    "from bs4 import BeautifulSoup"
   ],
   "outputs": [],
   "execution_count": 36
  },
  {
   "cell_type": "code",
   "metadata": {
    "ExecuteTime": {
     "end_time": "2024-05-26T15:48:29.795898Z",
     "start_time": "2024-05-26T15:48:29.788236Z"
    }
   },
   "source": [
    "\n",
    "\n",
    "\n",
    "url = 'https://www.daraz.com.np/'  \n",
    "headers = {\n",
    "    'User-Agent': 'Mozilla/5.0 (Windows NT 10.0; Win64; x64) AppleWebKit/537.36 (KHTML, like Gecko) Chrome/91.0.4472.124 Safari/537.36'\n",
    "}\n",
    "\n"
   ],
   "outputs": [],
   "execution_count": 37
  },
  {
   "cell_type": "code",
   "metadata": {
    "ExecuteTime": {
     "end_time": "2024-05-26T15:48:29.827048Z",
     "start_time": "2024-05-26T15:48:29.820381Z"
    }
   },
   "source": [
    "def ParseHTML(url,headers):\n",
    "    response = requests.get(url,headers= headers)\n",
    "\n",
    "    if response.status_code == 200:\n",
    "        soup = BeautifulSoup(response.content, 'html.parser')\n",
    "        \n",
    "        return soup\n",
    "        \n",
    "    else:\n",
    "        print('Failed to retrieve the page')\n",
    "        return -1\n",
    "        "
   ],
   "outputs": [],
   "execution_count": 38
  },
  {
   "metadata": {
    "ExecuteTime": {
     "end_time": "2024-05-26T15:48:29.889108Z",
     "start_time": "2024-05-26T15:48:29.867974Z"
    }
   },
   "cell_type": "code",
   "source": [
    "def ParseHTMLString(stringData):\n",
    "    soup = BeautifulSoup(stringData, 'html.parser')\n",
    "\n",
    "    return soup\n",
    "\n"
   ],
   "outputs": [],
   "execution_count": 39
  },
  {
   "metadata": {
    "ExecuteTime": {
     "end_time": "2024-05-26T15:48:29.934841Z",
     "start_time": "2024-05-26T15:48:29.921701Z"
    }
   },
   "cell_type": "code",
   "source": [
    "with open('Test.html', 'r') as file:\n",
    "    # Read the content of the file into a string\n",
    "    file_content = file.read()"
   ],
   "outputs": [],
   "execution_count": 40
  },
  {
   "cell_type": "code",
   "metadata": {
    "ExecuteTime": {
     "end_time": "2024-05-26T15:48:30.012609Z",
     "start_time": "2024-05-26T15:48:29.982489Z"
    }
   },
   "source": "soup = ParseHTMLString(file_content)",
   "outputs": [],
   "execution_count": 41
  },
  {
   "metadata": {
    "ExecuteTime": {
     "end_time": "2024-05-26T15:48:30.043506Z",
     "start_time": "2024-05-26T15:48:30.016340Z"
    }
   },
   "cell_type": "code",
   "source": "soup",
   "outputs": [
    {
     "data": {
      "text/plain": [
       "ï»¿<!DOCTYPE html>\n",
       "\n",
       "<html lang=\"en\">\n",
       "<head>\n",
       "<meta charset=\"utf-8\"/>\n",
       "<meta content=\"width=device-width, initial-scale=1.0\" name=\"viewport\"/>\n",
       "<title>Sample E-commerce Site</title>\n",
       "</head>\n",
       "<body>\n",
       "<header>\n",
       "<div class=\"container\">\n",
       "<h1>My E-commerce Site</h1>\n",
       "<ul>\n",
       "<li><a href=\"#\">Home</a></li>\n",
       "<li><a href=\"#\">Products</a></li>\n",
       "<li><a href=\"#\">About</a></li>\n",
       "<li><a href=\"#\">Contact</a></li>\n",
       "</ul>\n",
       "</div>\n",
       "</header>\n",
       "<div class=\"container\">\n",
       "<h2>Our Products</h2>\n",
       "<div class=\"products\">\n",
       "<div class=\"product\">\n",
       "<img alt=\"Gel Pen\" src=\"https://via.placeholder.com/150\"/>\n",
       "<h3>Gel Pen</h3>\n",
       "<p class=\"price\">$2.99</p>\n",
       "<p class=\"description\">Smooth writing gel pen with a comfortable grip and vibrant ink colors. Perfect for everyday use at school, home, or office.</p>\n",
       "</div>\n",
       "<div class=\"product\">\n",
       "<img alt=\"Notebook\" src=\"https://via.placeholder.com/150\"/>\n",
       "<h3>Notebook</h3>\n",
       "<p class=\"price\">$5.99</p>\n",
       "<p class=\"description\">Durable and stylish notebook with lined pages. Ideal for note-taking, journaling, or sketching. Available in various colors and sizes.</p>\n",
       "</div>\n",
       "<div class=\"product\">\n",
       "<img alt=\"Wireless Mouse\" src=\"https://via.placeholder.com/150\"/>\n",
       "<h3>Wireless Mouse</h3>\n",
       "<p class=\"price\">$14.99</p>\n",
       "<p class=\"description\">Ergonomic wireless mouse with high precision and long battery life. Compatible with Windows and MacOS. Perfect for work and gaming.</p>\n",
       "</div>\n",
       "<div class=\"product\">\n",
       "<img alt=\"Bluetooth Speaker\" src=\"https://via.placeholder.com/150\"/>\n",
       "<h3>Bluetooth Speaker</h3>\n",
       "<p class=\"price\">$29.99</p>\n",
       "<p class=\"description\">Portable Bluetooth speaker with excellent sound quality and deep bass. Water-resistant design makes it ideal for outdoor use.</p>\n",
       "</div>\n",
       "<div class=\"product\">\n",
       "<img alt=\"Coffee Mug\" src=\"https://via.placeholder.com/150\"/>\n",
       "<h3>Coffee Mug</h3>\n",
       "<p class=\"price\">$9.99</p>\n",
       "<p class=\"description\">Ceramic coffee mug with a comfortable handle and fun design. Microwave and dishwasher safe. Perfect for coffee, tea, or hot chocolate.</p>\n",
       "</div>\n",
       "<div class=\"product\">\n",
       "<img alt=\"Smartphone Case\" src=\"https://via.placeholder.com/150\"/>\n",
       "<h3>Smartphone Case</h3>\n",
       "<p class=\"price\">$12.99</p>\n",
       "<p class=\"description\">Durable and stylish smartphone case that provides excellent protection against scratches and drops. Available in various colors.</p>\n",
       "</div>\n",
       "<div class=\"product\">\n",
       "<img alt=\"Water Bottle\" src=\"https://via.placeholder.com/150\"/>\n",
       "<h3>Water Bottle</h3>\n",
       "<p class=\"price\">$8.99</p>\n",
       "<p class=\"description\">Reusable water bottle made from BPA-free materials. Features a leak-proof cap and is perfect for staying hydrated on the go.</p>\n",
       "</div>\n",
       "<div class=\"product\">\n",
       "<img alt=\"Backpack\" src=\"https://via.placeholder.com/150\"/>\n",
       "<h3>Backpack</h3>\n",
       "<p class=\"price\">$49.99</p>\n",
       "<p class=\"description\">Stylish and durable backpack with multiple compartments for organized storage. Ideal for school, work, or travel.</p>\n",
       "</div>\n",
       "<div class=\"product\">\n",
       "<img alt=\"Desk Lamp\" src=\"https://via.placeholder.com/150\"/>\n",
       "<h3>Desk Lamp</h3>\n",
       "<p class=\"price\">$24.99</p>\n",
       "<p class=\"description\">Adjustable desk lamp with LED light. Features multiple brightness levels and a modern design. Perfect for study or work.</p>\n",
       "</div>\n",
       "<div class=\"product\">\n",
       "<img alt=\"Headphones\" src=\"https://via.placeholder.com/150\"/>\n",
       "<h3>Headphones</h3>\n",
       "<p class=\"price\">$59.99</p>\n",
       "<p class=\"description\">Over-ear headphones with excellent sound quality and noise cancellation. Comfortable fit and long battery life. Ideal for music lovers.</p>\n",
       "</div>\n",
       "<div class=\"product\">\n",
       "<img alt=\"Fitness Tracker\" src=\"https://via.placeholder.com/150\"/>\n",
       "<h3>Fitness Tracker</h3>\n",
       "<p class=\"price\">$39.99</p>\n",
       "<p class=\"description\">Waterproof fitness tracker with heart rate monitor, step counter, and sleep tracking. Syncs with your smartphone for detailed insights.</p>\n",
       "</div>\n",
       "</div>\n",
       "</div>\n",
       "</body>\n",
       "</html>"
      ]
     },
     "execution_count": 42,
     "metadata": {},
     "output_type": "execute_result"
    }
   ],
   "execution_count": 42
  },
  {
   "cell_type": "code",
   "metadata": {
    "ExecuteTime": {
     "end_time": "2024-05-26T15:48:30.089568Z",
     "start_time": "2024-05-26T15:48:30.076891Z"
    }
   },
   "source": [
    "def SplitDocumentsByTags(soup):\n",
    "    chunks = []\n",
    "\n",
    "    for heading in soup.find_all(['h1', 'h2', 'h3', 'h4', 'h5', 'h6','a']):\n",
    "        heading_text = heading.get_text()\n",
    "        sibling = heading.find_next_sibling()\n",
    "        content = []\n",
    "     \n",
    "        content.append(f\"{heading_text}\")\n",
    "       # content.append(\"heading.name \" \"+heading_text+\" \")\n",
    "        while sibling and sibling.name not in ['h1', 'h2', 'h3', 'h4', 'h5', 'h6']:\n",
    "            \n",
    "            content.append(f\"{sibling}\")\n",
    "            sibling = sibling.find_next_sibling()\n",
    "\n",
    "        chunks.append((heading_text, \" \".join(content)))\n",
    "    return chunks"
   ],
   "outputs": [],
   "execution_count": 43
  },
  {
   "cell_type": "code",
   "metadata": {
    "ExecuteTime": {
     "end_time": "2024-05-26T15:48:30.197585Z",
     "start_time": "2024-05-26T15:48:30.169330Z"
    }
   },
   "source": [
    "SplitDocumentsByTags(soup)"
   ],
   "outputs": [
    {
     "data": {
      "text/plain": [
       "[('My E-commerce Site',\n",
       "  'My E-commerce Site <ul>\\n<li><a href=\"#\">Home</a></li>\\n<li><a href=\"#\">Products</a></li>\\n<li><a href=\"#\">About</a></li>\\n<li><a href=\"#\">Contact</a></li>\\n</ul>'),\n",
       " ('Home', 'Home'),\n",
       " ('Products', 'Products'),\n",
       " ('About', 'About'),\n",
       " ('Contact', 'Contact'),\n",
       " ('Our Products',\n",
       "  'Our Products <div class=\"products\">\\n<div class=\"product\">\\n<img alt=\"Gel Pen\" src=\"https://via.placeholder.com/150\"/>\\n<h3>Gel Pen</h3>\\n<p class=\"price\">$2.99</p>\\n<p class=\"description\">Smooth writing gel pen with a comfortable grip and vibrant ink colors. Perfect for everyday use at school, home, or office.</p>\\n</div>\\n<div class=\"product\">\\n<img alt=\"Notebook\" src=\"https://via.placeholder.com/150\"/>\\n<h3>Notebook</h3>\\n<p class=\"price\">$5.99</p>\\n<p class=\"description\">Durable and stylish notebook with lined pages. Ideal for note-taking, journaling, or sketching. Available in various colors and sizes.</p>\\n</div>\\n<div class=\"product\">\\n<img alt=\"Wireless Mouse\" src=\"https://via.placeholder.com/150\"/>\\n<h3>Wireless Mouse</h3>\\n<p class=\"price\">$14.99</p>\\n<p class=\"description\">Ergonomic wireless mouse with high precision and long battery life. Compatible with Windows and MacOS. Perfect for work and gaming.</p>\\n</div>\\n<div class=\"product\">\\n<img alt=\"Bluetooth Speaker\" src=\"https://via.placeholder.com/150\"/>\\n<h3>Bluetooth Speaker</h3>\\n<p class=\"price\">$29.99</p>\\n<p class=\"description\">Portable Bluetooth speaker with excellent sound quality and deep bass. Water-resistant design makes it ideal for outdoor use.</p>\\n</div>\\n<div class=\"product\">\\n<img alt=\"Coffee Mug\" src=\"https://via.placeholder.com/150\"/>\\n<h3>Coffee Mug</h3>\\n<p class=\"price\">$9.99</p>\\n<p class=\"description\">Ceramic coffee mug with a comfortable handle and fun design. Microwave and dishwasher safe. Perfect for coffee, tea, or hot chocolate.</p>\\n</div>\\n<div class=\"product\">\\n<img alt=\"Smartphone Case\" src=\"https://via.placeholder.com/150\"/>\\n<h3>Smartphone Case</h3>\\n<p class=\"price\">$12.99</p>\\n<p class=\"description\">Durable and stylish smartphone case that provides excellent protection against scratches and drops. Available in various colors.</p>\\n</div>\\n<div class=\"product\">\\n<img alt=\"Water Bottle\" src=\"https://via.placeholder.com/150\"/>\\n<h3>Water Bottle</h3>\\n<p class=\"price\">$8.99</p>\\n<p class=\"description\">Reusable water bottle made from BPA-free materials. Features a leak-proof cap and is perfect for staying hydrated on the go.</p>\\n</div>\\n<div class=\"product\">\\n<img alt=\"Backpack\" src=\"https://via.placeholder.com/150\"/>\\n<h3>Backpack</h3>\\n<p class=\"price\">$49.99</p>\\n<p class=\"description\">Stylish and durable backpack with multiple compartments for organized storage. Ideal for school, work, or travel.</p>\\n</div>\\n<div class=\"product\">\\n<img alt=\"Desk Lamp\" src=\"https://via.placeholder.com/150\"/>\\n<h3>Desk Lamp</h3>\\n<p class=\"price\">$24.99</p>\\n<p class=\"description\">Adjustable desk lamp with LED light. Features multiple brightness levels and a modern design. Perfect for study or work.</p>\\n</div>\\n<div class=\"product\">\\n<img alt=\"Headphones\" src=\"https://via.placeholder.com/150\"/>\\n<h3>Headphones</h3>\\n<p class=\"price\">$59.99</p>\\n<p class=\"description\">Over-ear headphones with excellent sound quality and noise cancellation. Comfortable fit and long battery life. Ideal for music lovers.</p>\\n</div>\\n<div class=\"product\">\\n<img alt=\"Fitness Tracker\" src=\"https://via.placeholder.com/150\"/>\\n<h3>Fitness Tracker</h3>\\n<p class=\"price\">$39.99</p>\\n<p class=\"description\">Waterproof fitness tracker with heart rate monitor, step counter, and sleep tracking. Syncs with your smartphone for detailed insights.</p>\\n</div>\\n</div>'),\n",
       " ('Gel Pen',\n",
       "  'Gel Pen <p class=\"price\">$2.99</p> <p class=\"description\">Smooth writing gel pen with a comfortable grip and vibrant ink colors. Perfect for everyday use at school, home, or office.</p>'),\n",
       " ('Notebook',\n",
       "  'Notebook <p class=\"price\">$5.99</p> <p class=\"description\">Durable and stylish notebook with lined pages. Ideal for note-taking, journaling, or sketching. Available in various colors and sizes.</p>'),\n",
       " ('Wireless Mouse',\n",
       "  'Wireless Mouse <p class=\"price\">$14.99</p> <p class=\"description\">Ergonomic wireless mouse with high precision and long battery life. Compatible with Windows and MacOS. Perfect for work and gaming.</p>'),\n",
       " ('Bluetooth Speaker',\n",
       "  'Bluetooth Speaker <p class=\"price\">$29.99</p> <p class=\"description\">Portable Bluetooth speaker with excellent sound quality and deep bass. Water-resistant design makes it ideal for outdoor use.</p>'),\n",
       " ('Coffee Mug',\n",
       "  'Coffee Mug <p class=\"price\">$9.99</p> <p class=\"description\">Ceramic coffee mug with a comfortable handle and fun design. Microwave and dishwasher safe. Perfect for coffee, tea, or hot chocolate.</p>'),\n",
       " ('Smartphone Case',\n",
       "  'Smartphone Case <p class=\"price\">$12.99</p> <p class=\"description\">Durable and stylish smartphone case that provides excellent protection against scratches and drops. Available in various colors.</p>'),\n",
       " ('Water Bottle',\n",
       "  'Water Bottle <p class=\"price\">$8.99</p> <p class=\"description\">Reusable water bottle made from BPA-free materials. Features a leak-proof cap and is perfect for staying hydrated on the go.</p>'),\n",
       " ('Backpack',\n",
       "  'Backpack <p class=\"price\">$49.99</p> <p class=\"description\">Stylish and durable backpack with multiple compartments for organized storage. Ideal for school, work, or travel.</p>'),\n",
       " ('Desk Lamp',\n",
       "  'Desk Lamp <p class=\"price\">$24.99</p> <p class=\"description\">Adjustable desk lamp with LED light. Features multiple brightness levels and a modern design. Perfect for study or work.</p>'),\n",
       " ('Headphones',\n",
       "  'Headphones <p class=\"price\">$59.99</p> <p class=\"description\">Over-ear headphones with excellent sound quality and noise cancellation. Comfortable fit and long battery life. Ideal for music lovers.</p>'),\n",
       " ('Fitness Tracker',\n",
       "  'Fitness Tracker <p class=\"price\">$39.99</p> <p class=\"description\">Waterproof fitness tracker with heart rate monitor, step counter, and sleep tracking. Syncs with your smartphone for detailed insights.</p>')]"
      ]
     },
     "execution_count": 44,
     "metadata": {},
     "output_type": "execute_result"
    }
   ],
   "execution_count": 44
  },
  {
   "cell_type": "code",
   "metadata": {
    "ExecuteTime": {
     "end_time": "2024-05-26T15:48:30.229166Z",
     "start_time": "2024-05-26T15:48:30.216474Z"
    }
   },
   "source": [
    "from transformers import BertTokenizer, BertModel\n",
    "import torch"
   ],
   "outputs": [],
   "execution_count": 45
  },
  {
   "cell_type": "code",
   "metadata": {
    "ExecuteTime": {
     "end_time": "2024-05-26T15:48:32.351023Z",
     "start_time": "2024-05-26T15:48:30.324843Z"
    }
   },
   "source": [
    "model_name = 'bert-base-uncased'\n",
    "tokenizer = BertTokenizer.from_pretrained(model_name)\n",
    "model = BertModel.from_pretrained(model_name)"
   ],
   "outputs": [],
   "execution_count": 46
  },
  {
   "metadata": {
    "ExecuteTime": {
     "end_time": "2024-05-26T15:48:32.366408Z",
     "start_time": "2024-05-26T15:48:32.354616Z"
    }
   },
   "cell_type": "code",
   "source": [
    "def aggregate_embeddings(chunk_embeddings, method='mean'):\n",
    "    if method == 'mean':\n",
    "        document_embedding = torch.mean(chunk_embeddings, axis=1)\n",
    "    elif method == 'sum':\n",
    "        document_embedding = torch.sum(chunk_embeddings, axis=1)\n",
    "    else:\n",
    "        raise ValueError(\"Unsupported aggregation method\")\n",
    "    return document_embedding"
   ],
   "outputs": [],
   "execution_count": 47
  },
  {
   "metadata": {
    "ExecuteTime": {
     "end_time": "2024-05-26T15:48:32.381288Z",
     "start_time": "2024-05-26T15:48:32.369557Z"
    }
   },
   "cell_type": "code",
   "source": [
    "class EmbeddingString:\n",
    "    def __init__(self, text, embedding):\n",
    "        self.text= text\n",
    "        self.embedding = embedding"
   ],
   "outputs": [],
   "execution_count": 48
  },
  {
   "metadata": {
    "ExecuteTime": {
     "end_time": "2024-05-26T15:48:32.396581Z",
     "start_time": "2024-05-26T15:48:32.385432Z"
    }
   },
   "cell_type": "code",
   "source": "",
   "outputs": [],
   "execution_count": 48
  },
  {
   "metadata": {
    "ExecuteTime": {
     "end_time": "2024-05-26T15:48:32.412322Z",
     "start_time": "2024-05-26T15:48:32.399365Z"
    }
   },
   "cell_type": "code",
   "source": "embedding_document_mapping = {}\n",
   "outputs": [],
   "execution_count": 49
  },
  {
   "cell_type": "code",
   "metadata": {
    "ExecuteTime": {
     "end_time": "2024-05-26T15:48:32.427403Z",
     "start_time": "2024-05-26T15:48:32.414664Z"
    }
   },
   "source": [
    "def GetEmbeddings(chunks):\n",
    "    \n",
    "    embeddings = []\n",
    "    #print(chunks)\n",
    "    for heading, text in chunks:\n",
    "        #print(text)\n",
    "        if text == \"\":\n",
    "            continue\n",
    "        inputs = tokenizer(text, return_tensors='pt', padding = 'max_length', truncation=True, max_length=170)\n",
    "       # print(inputs['input_ids'].shape)\n",
    "       # print(inputs)\n",
    "        #print(inputs)\n",
    "        with torch.no_grad():\n",
    "            outputs = model(**inputs)\n",
    "            last_hidden_states = outputs.last_hidden_state\n",
    "            embedding =  aggregate_embeddings(last_hidden_states,'mean')\n",
    "          #  print(last_hidden_states.shape)\n",
    "            embdString  = EmbeddingString(text,embedding.squeeze().numpy())\n",
    "            embeddings.append(embdString)\n",
    "            #embedding_document_mapping[text] = embeddings\n",
    "    return embeddings\n"
   ],
   "outputs": [],
   "execution_count": 50
  },
  {
   "metadata": {
    "ExecuteTime": {
     "end_time": "2024-05-26T15:48:32.442836Z",
     "start_time": "2024-05-26T15:48:32.429714Z"
    }
   },
   "cell_type": "code",
   "source": [
    "def createEmbeddingForSingleDocument(document):\n",
    "    inputs = tokenizer(document, return_tensors='pt', padding = 'max_length', truncation=True, max_length=170)\n",
    "    with torch.no_grad():\n",
    "        outputs = model(**inputs)\n",
    "        last_hidden_states = outputs.last_hidden_state\n",
    "        embedding = aggregate_embeddings(last_hidden_states,'mean')\n",
    "        embedding = embedding.squeeze().numpy()\n",
    "        \n",
    "    return EmbeddingString(document, embedding)"
   ],
   "outputs": [],
   "execution_count": 51
  },
  {
   "cell_type": "code",
   "metadata": {
    "ExecuteTime": {
     "end_time": "2024-05-26T15:48:40.735696Z",
     "start_time": "2024-05-26T15:48:32.445986Z"
    }
   },
   "source": [
    "\n",
    "chunks = SplitDocumentsByTags(soup)\n",
    "embeddings = GetEmbeddings(chunks)"
   ],
   "outputs": [],
   "execution_count": 52
  },
  {
   "metadata": {},
   "cell_type": "markdown",
   "source": ""
  },
  {
   "metadata": {
    "ExecuteTime": {
     "end_time": "2024-05-26T15:48:40.751495Z",
     "start_time": "2024-05-26T15:48:40.740696Z"
    }
   },
   "cell_type": "code",
   "source": "import numpy as np",
   "outputs": [],
   "execution_count": 53
  },
  {
   "metadata": {
    "ExecuteTime": {
     "end_time": "2024-05-26T15:48:40.797310Z",
     "start_time": "2024-05-26T15:48:40.761965Z"
    }
   },
   "cell_type": "code",
   "source": [
    "# generate planes \n",
    "dim = embeddings[0].embedding.shape[0]\n",
    "planes = 10\n",
    "buckets = 2**planes\n",
    "random_planes_matrix = np.random.normal(size=(planes, dim))\n",
    "random_planes_matrix\n"
   ],
   "outputs": [
    {
     "data": {
      "text/plain": [
       "array([[-2.02892776,  0.22278353, -1.99673914, ...,  0.09226371,\n",
       "        -0.33240089, -0.1852678 ],\n",
       "       [-1.08179137,  0.40230482, -0.47073182, ...,  1.61335855,\n",
       "        -0.8152127 ,  0.97805341],\n",
       "       [ 0.62695472,  0.26476308,  1.18691933, ...,  0.3875985 ,\n",
       "         0.51829685,  1.52017222],\n",
       "       ...,\n",
       "       [ 2.66943648,  0.19885396, -0.69445736, ..., -0.00344338,\n",
       "        -0.57379568, -0.27860989],\n",
       "       [-0.60017211, -0.52377117, -1.51855132, ..., -0.19784391,\n",
       "        -0.59166688, -1.09852489],\n",
       "       [ 0.39544425, -0.17412466,  1.58139057, ..., -0.36775727,\n",
       "         0.22088353,  0.87280061]])"
      ]
     },
     "execution_count": 54,
     "metadata": {},
     "output_type": "execute_result"
    }
   ],
   "execution_count": 54
  },
  {
   "metadata": {
    "ExecuteTime": {
     "end_time": "2024-05-26T15:48:40.812612Z",
     "start_time": "2024-05-26T15:48:40.801310Z"
    }
   },
   "cell_type": "code",
   "source": "",
   "outputs": [],
   "execution_count": 54
  },
  {
   "metadata": {
    "ExecuteTime": {
     "end_time": "2024-05-26T15:48:40.827822Z",
     "start_time": "2024-05-26T15:48:40.817305Z"
    }
   },
   "cell_type": "code",
   "source": [
    "def side_of_plane_matrx(P, v):\n",
    "   # print(P.shape)\n",
    "    #print(v.shape)\n",
    "    dotproduct = np.dot(P,v.T)\n",
    "    sign = np.sign(dotproduct)\n",
    "    return sign"
   ],
   "outputs": [],
   "execution_count": 55
  },
  {
   "metadata": {
    "ExecuteTime": {
     "end_time": "2024-05-26T15:48:40.858678Z",
     "start_time": "2024-05-26T15:48:40.833865Z"
    }
   },
   "cell_type": "code",
   "source": [
    "def hash_table(P_l,v ):\n",
    "    hash_value = 0\n",
    "    for i, P in enumerate(P_l):\n",
    "        sign = side_of_plane_matrx(P, v)\n",
    "        hash_i = 1 if sign >= 0 else 0\n",
    "        #print(hash_i)\n",
    "        hash_value += 2**i * hash_i\n",
    "        \n",
    "    return hash_value\n",
    "        "
   ],
   "outputs": [],
   "execution_count": 56
  },
  {
   "metadata": {
    "ExecuteTime": {
     "end_time": "2024-05-26T15:48:40.874247Z",
     "start_time": "2024-05-26T15:48:40.862678Z"
    }
   },
   "cell_type": "code",
   "source": [
    "def createEmbeddingSpace(embeddings, random_planes):\n",
    "    embeddings_space={n : [] for n in range(0,buckets)}\n",
    "    \n",
    "    \n",
    "    for e in embeddings:\n",
    "        embeddings_space[hash_table(random_planes,e.embedding)].append(e)\n",
    "        \n",
    "    return embeddings_space\n"
   ],
   "outputs": [],
   "execution_count": 57
  },
  {
   "metadata": {
    "ExecuteTime": {
     "end_time": "2024-05-26T15:48:40.905049Z",
     "start_time": "2024-05-26T15:48:40.878552Z"
    }
   },
   "cell_type": "code",
   "source": "embeddings_space = createEmbeddingSpace(embeddings, random_planes_matrix)",
   "outputs": [],
   "execution_count": 58
  },
  {
   "metadata": {
    "ExecuteTime": {
     "end_time": "2024-05-26T15:48:40.920188Z",
     "start_time": "2024-05-26T15:48:40.909094Z"
    }
   },
   "cell_type": "code",
   "source": "#len(embeddings_space[16])",
   "outputs": [],
   "execution_count": 59
  },
  {
   "metadata": {
    "ExecuteTime": {
     "end_time": "2024-05-26T15:48:40.951268Z",
     "start_time": "2024-05-26T15:48:40.924583Z"
    }
   },
   "cell_type": "code",
   "source": [
    "def cosineSimilarity(a,b):\n",
    "    a_mag = np.linalg.norm(a)\n",
    "    b_mag = np.linalg.norm(b)\n",
    "    #print(a.shape)\n",
    "    #print(b.shape)\n",
    "    dot_p = np.dot(a,b)\n",
    "    cosB = dot_p/(a_mag*b_mag)\n",
    "    #print(cosB)\n",
    "    return cosB\n",
    "    \n",
    "    "
   ],
   "outputs": [],
   "execution_count": 60
  },
  {
   "cell_type": "code",
   "metadata": {
    "ExecuteTime": {
     "end_time": "2024-05-26T15:48:40.982210Z",
     "start_time": "2024-05-26T15:48:40.955903Z"
    }
   },
   "source": [
    "#KNN\n",
    "def KNN(query, embeddings_space, random_planes_matrix):\n",
    "    queryEmbd = createEmbeddingForSingleDocument(query)\n",
    "    v = hash_table(random_planes_matrix,queryEmbd.embedding)\n",
    "\n",
    "    \n",
    "    possible_embeddings = embeddings_space[v]\n",
    "   # print(possible_embeddings)\n",
    "    if len(possible_embeddings) == 0:\n",
    "        print(\"Sorry couldnt find the item\")\n",
    "        return -1\n",
    "    neareast_embd = possible_embeddings[0]\n",
    "    for p in possible_embeddings:\n",
    "        current = cosineSimilarity(p.embedding,queryEmbd.embedding)\n",
    "        prev = cosineSimilarity(neareast_embd.embedding,queryEmbd.embedding)\n",
    "        if current < prev:\n",
    "            neareast_embd = p\n",
    "        \n",
    "    return neareast_embd.text\n",
    "        \n",
    "    \n",
    "    \n",
    "    \n",
    "    "
   ],
   "outputs": [],
   "execution_count": 61
  },
  {
   "metadata": {
    "ExecuteTime": {
     "end_time": "2024-05-26T15:48:40.997659Z",
     "start_time": "2024-05-26T15:48:40.985838Z"
    }
   },
   "cell_type": "code",
   "source": [
    "def SimmilarText(query,embeddings, random_planes_matrix,thres=0.75):\n",
    "    queryEmbd = createEmbeddingForSingleDocument(query)\n",
    "    v = hash_table(random_planes_matrix,queryEmbd.embedding)\n",
    "\n",
    "\n",
    "    possible_embeddings = embeddings\n",
    "    if len(possible_embeddings) == 0:\n",
    "        print(\"Sorry couldnt find the item\")\n",
    "        return -1\n",
    "   # neareast_embd = possible_embeddings[0]\n",
    "    close_embd =[]\n",
    "    for p in possible_embeddings:\n",
    "        current = cosineSimilarity(p.embedding,queryEmbd.embedding)\n",
    "        if current > thres:\n",
    "            close_embd.append(p.text)\n",
    "        #prev = cosineSimilarity(neareast_embd.embedding,queryEmbd.embedding)\n",
    "        # if current < prev:\n",
    "        #     neareast_embd = p\n",
    "\n",
    "    return close_embd\n",
    "\n"
   ],
   "outputs": [],
   "execution_count": 62
  },
  {
   "metadata": {
    "ExecuteTime": {
     "end_time": "2024-05-26T15:48:41.486881Z",
     "start_time": "2024-05-26T15:48:41.001687Z"
    }
   },
   "cell_type": "code",
   "source": "simmilar_text = SimmilarText(\"something <p class=\\\"price\\\">$12.39</p> <p class=\\\"description\\\">This item is very good and of various sizes.</p>\",embeddings,random_planes_matrix,0.8)",
   "outputs": [],
   "execution_count": 63
  },
  {
   "metadata": {
    "ExecuteTime": {
     "end_time": "2024-05-26T15:48:41.502471Z",
     "start_time": "2024-05-26T15:48:41.490880Z"
    }
   },
   "cell_type": "code",
   "source": [
    "def Group(query,embeddings_space, random_planes_matrix):\n",
    "    queryEmbd = createEmbeddingForSingleDocument(query)\n",
    "    v = hash_table(random_planes_matrix,queryEmbd.embedding)\n",
    "\n",
    "\n",
    "    possible_embeddings = embeddings_space[v]\n",
    "   \n",
    "    x = [i.text for i in possible_embeddings]\n",
    "    return x"
   ],
   "outputs": [],
   "execution_count": 64
  },
  {
   "metadata": {
    "ExecuteTime": {
     "end_time": "2024-05-26T15:48:42.008733Z",
     "start_time": "2024-05-26T15:48:41.506233Z"
    }
   },
   "cell_type": "code",
   "source": [
    "data = Group(\"something <p class=\\\"price\\\">$81.99</p> <p class=\\\"description\\\">Nice product. Features a leak-proof cap and is perfect for staying hydrated on the go.</p>\",embeddings_space,random_planes_matrix)\n",
    "data"
   ],
   "outputs": [
    {
     "data": {
      "text/plain": [
       "[]"
      ]
     },
     "execution_count": 65,
     "metadata": {},
     "output_type": "execute_result"
    }
   ],
   "execution_count": 65
  },
  {
   "metadata": {
    "ExecuteTime": {
     "end_time": "2024-05-26T15:48:42.024325Z",
     "start_time": "2024-05-26T15:48:42.012235Z"
    }
   },
   "cell_type": "code",
   "source": "import re",
   "outputs": [],
   "execution_count": 66
  },
  {
   "metadata": {
    "ExecuteTime": {
     "end_time": "2024-05-26T15:48:42.039826Z",
     "start_time": "2024-05-26T15:48:42.028327Z"
    }
   },
   "cell_type": "code",
   "source": [
    "def extract_product_info(text):\n",
    "    # Define regex patterns for product name, price, and description\n",
    "    soup = BeautifulSoup(text, 'html.parser')\n",
    "\n",
    "    # Extract the name (text before the first tag)\n",
    "    name = soup.get_text(strip=True, separator=\" \").split(\"$\")[0].strip()\n",
    "    \n",
    "    # Extract the price\n",
    "    price = soup.find('p').get_text(strip=True)\n",
    "    \n",
    "    # Extract the description\n",
    "    description = soup.find('p').get_text(strip=True)\n",
    "\n",
    "    return {\n",
    "        'name': name,\n",
    "        'price': price,\n",
    "        'description': description\n",
    "    }"
   ],
   "outputs": [],
   "execution_count": 67
  },
  {
   "metadata": {
    "ExecuteTime": {
     "end_time": "2024-05-26T15:48:42.070826Z",
     "start_time": "2024-05-26T15:48:42.043327Z"
    }
   },
   "cell_type": "code",
   "source": "extract_product_info( 'Wireless Mouse <p class=\"price\">$14.99</p> <p class=\"description\">Ergonomic wireless mouse with high precision and long battery life. Compatible with Windows and MacOS. Perfect for work and gaming.</p>')",
   "outputs": [
    {
     "data": {
      "text/plain": [
       "{'name': 'Wireless Mouse', 'price': '$14.99', 'description': '$14.99'}"
      ]
     },
     "execution_count": 68,
     "metadata": {},
     "output_type": "execute_result"
    }
   ],
   "execution_count": 68
  },
  {
   "metadata": {
    "ExecuteTime": {
     "end_time": "2024-05-26T15:48:42.100894Z",
     "start_time": "2024-05-26T15:48:42.074326Z"
    }
   },
   "cell_type": "code",
   "source": [
    "products_info=[]\n",
    "for i in simmilar_text:\n",
    "    products_info.append(extract_product_info(i))"
   ],
   "outputs": [],
   "execution_count": 69
  },
  {
   "metadata": {
    "ExecuteTime": {
     "end_time": "2024-05-26T15:48:42.131670Z",
     "start_time": "2024-05-26T15:48:42.104614Z"
    }
   },
   "cell_type": "code",
   "source": "products_info",
   "outputs": [
    {
     "data": {
      "text/plain": [
       "[{'name': 'Gel Pen', 'price': '$2.99', 'description': '$2.99'},\n",
       " {'name': 'Notebook', 'price': '$5.99', 'description': '$5.99'},\n",
       " {'name': 'Wireless Mouse', 'price': '$14.99', 'description': '$14.99'},\n",
       " {'name': 'Bluetooth Speaker', 'price': '$29.99', 'description': '$29.99'},\n",
       " {'name': 'Coffee Mug', 'price': '$9.99', 'description': '$9.99'},\n",
       " {'name': 'Smartphone Case', 'price': '$12.99', 'description': '$12.99'},\n",
       " {'name': 'Water Bottle', 'price': '$8.99', 'description': '$8.99'},\n",
       " {'name': 'Backpack', 'price': '$49.99', 'description': '$49.99'},\n",
       " {'name': 'Desk Lamp', 'price': '$24.99', 'description': '$24.99'},\n",
       " {'name': 'Headphones', 'price': '$59.99', 'description': '$59.99'},\n",
       " {'name': 'Fitness Tracker', 'price': '$39.99', 'description': '$39.99'}]"
      ]
     },
     "execution_count": 70,
     "metadata": {},
     "output_type": "execute_result"
    }
   ],
   "execution_count": 70
  },
  {
   "metadata": {
    "ExecuteTime": {
     "end_time": "2024-05-26T15:48:42.146984Z",
     "start_time": "2024-05-26T15:48:42.141087Z"
    }
   },
   "cell_type": "code",
   "source": "",
   "outputs": [],
   "execution_count": 70
  }
 ],
 "metadata": {
  "kernelspec": {
   "display_name": "sentEnv",
   "language": "python",
   "name": "python3"
  },
  "language_info": {
   "codemirror_mode": {
    "name": "ipython",
    "version": 3
   },
   "file_extension": ".py",
   "mimetype": "text/x-python",
   "name": "python",
   "nbconvert_exporter": "python",
   "pygments_lexer": "ipython3",
   "version": "3.11.4"
  }
 },
 "nbformat": 4,
 "nbformat_minor": 2
}
